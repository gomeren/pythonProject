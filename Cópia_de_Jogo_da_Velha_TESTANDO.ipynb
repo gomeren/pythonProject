{
  "cells": [
    {
      "cell_type": "markdown",
      "metadata": {
        "id": "view-in-github",
        "colab_type": "text"
      },
      "source": [
        "<a href=\"https://colab.research.google.com/github/gomeren/pythonProject/blob/main/C%C3%B3pia_de_Jogo_da_Velha_TESTANDO.ipynb\" target=\"_parent\"><img src=\"https://colab.research.google.com/assets/colab-badge.svg\" alt=\"Open In Colab\"/></a>"
      ]
    },
    {
      "cell_type": "markdown",
      "metadata": {
        "id": "PqWygJdi2QWj"
      },
      "source": [
        "# Jogo da Velha\n",
        "\n"
      ]
    },
    {
      "cell_type": "markdown",
      "metadata": {
        "id": "b6DcyS0y2QWq"
      },
      "source": [
        "**Etapa1: escreva uma função que possa dar um print no tabuleiro. Seu tabuleiro deve ser representado por uma lista, onde índice (1-9) corresponde a um posição no tabuleiro para termos uma representação de um tabuleiro 3x3 ( Usa a mesma disposição do teclado numérico.**\n",
        "\n",
        "def display_board(board):"
      ]
    },
    {
      "cell_type": "code",
      "execution_count": null,
      "metadata": {
        "collapsed": true,
        "id": "M9K6t2Gm2QWs"
      },
      "outputs": [],
      "source": [
        "from IPython.display import clear_output\n",
        "\n",
        "def display_board(board):\n",
        "    divisoria = '---------'\n",
        "    for i in range(3):\n",
        "        print('{} | {} | {}'.format(board[i * 3], board[i * 3 + 1], board[i * 3 + 2]))\n",
        "        if i < 2:\n",
        "            print(divisoria)\n"
      ]
    },
    {
      "cell_type": "markdown",
      "metadata": {
        "id": "jymLcEFJ2QWv"
      },
      "source": [
        "**TESTE da etapa1 :** rode a sua função e faça os ajustes necessários **"
      ]
    },
    {
      "cell_type": "code",
      "execution_count": null,
      "metadata": {
        "colab": {
          "base_uri": "https://localhost:8080/"
        },
        "id": "TEpIwZLy2QWx",
        "outputId": "daf3d3af-719a-434d-fc78-669ada20aedf"
      },
      "outputs": [
        {
          "output_type": "stream",
          "name": "stdout",
          "text": [
            "  |   |  \n",
            "---------\n",
            "  |   |  \n",
            "---------\n",
            "  |   |  \n"
          ]
        }
      ],
      "source": [
        "test_board = [' ',' ',' ',' ',' ',' ',' ',' ',' ',' ']\n",
        "display_board(test_board)"
      ]
    },
    {
      "cell_type": "markdown",
      "metadata": {
        "id": "r8KpP-DH2QWz"
      },
      "source": [
        "**Etapa 2: Escreva uma função que receba uma entrada do usuário e determine se sua marca será  'X' or 'O'. Sugestão : use while para perguntar continuamente  pela resposta correta.**\n",
        "\n",
        " player_input():"
      ]
    },
    {
      "cell_type": "code",
      "execution_count": null,
      "metadata": {
        "collapsed": true,
        "id": "IMA5ZgTW2QW0"
      },
      "outputs": [],
      "source": [
        "def player_input():\n",
        "    marker=input('Você quer ser X ou O ? ')\n",
        "    while marker != 'X' and marker != 'O':\n",
        "        marker=input('Você quer ser X ou O ? ')\n",
        "    return marker\n"
      ]
    },
    {
      "cell_type": "markdown",
      "metadata": {
        "id": "sB-UWqvx2QW1"
      },
      "source": [
        "**TESTE Etapa 2:** execute sua função e verifique o funcionamento correto"
      ]
    },
    {
      "cell_type": "code",
      "execution_count": null,
      "metadata": {
        "colab": {
          "base_uri": "https://localhost:8080/",
          "height": 105
        },
        "id": "yueQPUH32QW1",
        "outputId": "03bac689-d882-42bc-c7f9-d39dc8f268cf"
      },
      "outputs": [
        {
          "name": "stdout",
          "output_type": "stream",
          "text": [
            "Você quer ser X ou O ? a\n",
            "Você quer ser X ou O ? a\n",
            "Você quer ser X ou O ? d\n",
            "Você quer ser X ou O ? O\n"
          ]
        },
        {
          "output_type": "execute_result",
          "data": {
            "text/plain": [
              "'O'"
            ],
            "application/vnd.google.colaboratory.intrinsic+json": {
              "type": "string"
            }
          },
          "metadata": {},
          "execution_count": 51
        }
      ],
      "source": [
        "\n",
        "player_input()"
      ]
    },
    {
      "cell_type": "markdown",
      "metadata": {
        "id": "IdlvEvqv2QW2"
      },
      "source": [
        "**Etapa 3: Escreva uma função que receba o tabuleiro, uma marca ('X' ou 'O') e uma posição desejada e atribua esta marca no tabuleiro.**\n",
        "\n",
        "def place_marker(board, marker, position)"
      ]
    },
    {
      "cell_type": "code",
      "execution_count": null,
      "metadata": {
        "collapsed": true,
        "id": "4EC-umIH2QW2"
      },
      "outputs": [],
      "source": [
        "def place_marker(board, marker, position):\n",
        "      board[position-1] = marker\n",
        "      display_board(board)"
      ]
    },
    {
      "cell_type": "markdown",
      "metadata": {
        "id": "fBBxse452QW3"
      },
      "source": [
        "**TESTE Etapa 3:** rode a função e veja se elaqfunciona"
      ]
    },
    {
      "cell_type": "code",
      "execution_count": null,
      "metadata": {
        "colab": {
          "base_uri": "https://localhost:8080/"
        },
        "id": "PkehOH0I2QW3",
        "outputId": "b93d0dc2-3ec6-48ed-a60b-3654094b82b9"
      },
      "outputs": [
        {
          "output_type": "stream",
          "name": "stdout",
          "text": [
            "  | X |  \n",
            "---------\n",
            "  | X |  \n",
            "---------\n",
            "  | X |  \n"
          ]
        }
      ],
      "source": [
        "place_marker(test_board,'X',2)"
      ]
    },
    {
      "cell_type": "markdown",
      "metadata": {
        "id": "yRBglQmr2QW4"
      },
      "source": [
        "**Etapa 4: escreva uma funcção que recebe o tabuleiro e uma marca e verifique se  ganhou. Se ganhou, ela deve retornar True.**\n",
        "\n",
        " win_check(board,mark)"
      ]
    },
    {
      "cell_type": "code",
      "execution_count": null,
      "metadata": {
        "collapsed": true,
        "id": "_LiskoDo2QW4"
      },
      "outputs": [],
      "source": [
        "def win_check(board,mark):\n",
        "  possibilidades=[[0, 1, 2], [3, 4, 5], [6, 7, 8], [0, 3, 6], [1, 4, 7], [2, 5, 8], [0, 4, 8], [2, 4, 6]]\n",
        "  for test in possibilidades:\n",
        "    if board[test[0]] == board[test[1]] == board[test[2]] == mark:\n",
        "      return True\n",
        "  return False\n"
      ]
    },
    {
      "cell_type": "markdown",
      "metadata": {
        "id": "dXmRO8P42QW5"
      },
      "source": [
        "**TESTE Etapa 4: rode a função e veja se ela funciona**"
      ]
    },
    {
      "cell_type": "code",
      "execution_count": null,
      "metadata": {
        "colab": {
          "base_uri": "https://localhost:8080/"
        },
        "id": "kD8dn-4J2QW6",
        "outputId": "5bfceaf3-6ecd-4c8d-a4d8-e76cb8b6e048"
      },
      "outputs": [
        {
          "output_type": "execute_result",
          "data": {
            "text/plain": [
              "True"
            ]
          },
          "metadata": {},
          "execution_count": 60
        }
      ],
      "source": [
        "win_check(test_board,'X')"
      ]
    },
    {
      "cell_type": "markdown",
      "metadata": {
        "id": "ZnlhLthb2QW6"
      },
      "source": [
        "**Etapa 5: Escreva uma função que use o módulo random e decida qual jogador deve ir primeiro. Sugestão: veja a função random.randint(). Retorne uma string de qual jogar deve ir primeiro.**\n",
        "\n",
        "def choose_first():"
      ]
    },
    {
      "cell_type": "code",
      "execution_count": null,
      "metadata": {
        "collapsed": true,
        "id": "dRWxJ_8P2QW7"
      },
      "outputs": [],
      "source": [
        "import random\n",
        "\n",
        "def choose_first():\n",
        "  escolha=random.randint(1,2)\n",
        "  if escolha == 1:\n",
        "    print('Jogador 1 deve começar jogando')\n",
        "  else:\n",
        "    print('Jogador 2 deve começar jogando')\n"
      ]
    },
    {
      "cell_type": "markdown",
      "metadata": {
        "id": "Ls05AbbQ2QW7"
      },
      "source": [
        "**Etapa 6: escreva uma função que retorne um booleano que retorna se a posição no tabuleiro está livre.**\n",
        "\n",
        "space_check(board, position)"
      ]
    },
    {
      "cell_type": "code",
      "execution_count": null,
      "metadata": {
        "collapsed": true,
        "id": "IrT4oZDf2QW7"
      },
      "outputs": [],
      "source": [
        "def space_check(board, position):\n",
        "    if board[position-1] != ' ':\n",
        "        return True\n",
        "    else:\n",
        "        return False"
      ]
    },
    {
      "cell_type": "markdown",
      "metadata": {
        "id": "GEso_gP82QW8"
      },
      "source": [
        "**Etapa 7: escreva uma função que verifica se o tabuleiro está cheio e retorna um boleano. Se estiver cheio , deve retornar True .**\n",
        "\n",
        "\n"
      ]
    },
    {
      "cell_type": "code",
      "execution_count": null,
      "metadata": {
        "collapsed": true,
        "id": "H5vQoLpZ2QW8"
      },
      "outputs": [],
      "source": [
        "def full_board_check(board):\n",
        "    for i in range(9):\n",
        "        if board[i] == ' ':\n",
        "            return False\n",
        "    return True\n"
      ]
    },
    {
      "cell_type": "markdown",
      "metadata": {
        "id": "2z7MNPlH2QW9"
      },
      "source": [
        "**Etapa 8: escreva uma função que pergunte ao jogador pela sua próxima jogada ( posição)  no tabuleiro  um número de 1-9)  e então use a função da etapa 6 para verificar se a posição está livre. Se estiver, retorna a posição para uso futuro.**"
      ]
    },
    {
      "cell_type": "code",
      "execution_count": null,
      "metadata": {
        "collapsed": true,
        "id": "2zTjYG572QW9"
      },
      "outputs": [],
      "source": [
        "def player_choice(board):\n",
        "    choice = int(input('Escolha uma posição para marcar: '))\n",
        "    while choice>9 or choice<1:\n",
        "        choice= int(input('O número deve estar na faixa entre 1 e 9. Escolha outro: '))\n",
        "    while space_check(board, choice):\n",
        "        choice = int(input('Posição ja foi ocupada, escolha outra: '))\n",
        "        while choice>9 or choice<1:\n",
        "            choice = int(input('O número deve estar na faixa entre 1 e 9. Escolha outro: '))\n",
        "    return choice\n"
      ]
    },
    {
      "cell_type": "markdown",
      "metadata": {
        "id": "iVqYQdDO2QW9"
      },
      "source": [
        "**Etapa 9:  Escreva uma função que pergunte ao jogador se ele quer jogar de novo e retorne True se ele quiser.**"
      ]
    },
    {
      "cell_type": "code",
      "execution_count": null,
      "metadata": {
        "collapsed": true,
        "id": "aLM57Bun2QW9"
      },
      "outputs": [],
      "source": [
        "def replay():\n",
        "    escolha=input('Quer jogar novamente? Responda: S ou N :')\n",
        "    if escolha == 'S':\n",
        "        return True\n",
        "    return False\n"
      ]
    },
    {
      "cell_type": "markdown",
      "metadata": {
        "collapsed": true,
        "id": "394741ts2QW9"
      },
      "source": [
        "**Etapa 10:  Use while loops e as funções que você fez para rodar o jogo!**"
      ]
    },
    {
      "cell_type": "code",
      "execution_count": null,
      "metadata": {
        "colab": {
          "base_uri": "https://localhost:8080/"
        },
        "id": "45VYTQon2QW-",
        "outputId": "e907cb7e-2265-4433-943e-979894a80b6b"
      },
      "outputs": [
        {
          "name": "stdout",
          "output_type": "stream",
          "text": [
            "Jogo da Velha!\n",
            "\n",
            "----------------\n",
            "O Jogo da velha será iniciado\n",
            "Decida quem será o jogador 1 e o jogador 2\n",
            "Pressione Enter para prosseguir\n",
            "\n",
            "Jogador 2 deve começar jogando\n",
            "Você quer ser X ou O ? X\n",
            "Pressione Enter para Continuar\n",
            "\n",
            "Próximo jogador,seu marcador é -> O <-\n",
            "Pressione Enter para confirmar\n",
            "\n",
            "O Jogo irá começar, favor seguir a sequencia correta de jogadas começando pelo jogador sorteado\n",
            "Pressione Enter para confirmar o início do jogo\n",
            "\n",
            "Primeiro jogador sorteado: \n",
            "Escolha uma posição para marcar: 1\n",
            "X |   |  \n",
            "---------\n",
            "  |   |  \n",
            "---------\n",
            "  |   |  \n",
            "\n",
            "Pressione Enter para proxima jogada\n",
            "\n",
            "Segundo jogador sorteado: \n",
            "Escolha uma posição para marcar: 2\n",
            "X | O |  \n",
            "---------\n",
            "  |   |  \n",
            "---------\n",
            "  |   |  \n",
            "\n",
            "Pressione Enter para proxima jogada\n",
            "\n",
            "Primeiro jogador sorteado: \n",
            "Escolha uma posição para marcar: 1\n",
            "Posição ja foi ocupada, escolha outra: 3\n",
            "X | O | X\n",
            "---------\n",
            "  |   |  \n",
            "---------\n",
            "  |   |  \n",
            "\n",
            "Pressione Enter para proxima jogada\n",
            "\n",
            "Segundo jogador sorteado: \n",
            "Escolha uma posição para marcar: 5\n",
            "X | O | X\n",
            "---------\n",
            "  | O |  \n",
            "---------\n",
            "  |   |  \n",
            "\n",
            "Pressione Enter para proxima jogada\n",
            "\n",
            "Primeiro jogador sorteado: \n",
            "Escolha uma posição para marcar: 4\n",
            "X | O | X\n",
            "---------\n",
            "X | O |  \n",
            "---------\n",
            "  |   |  \n",
            "\n",
            "Pressione Enter para proxima jogada\n",
            "\n",
            "Segundo jogador sorteado: \n",
            "Escolha uma posição para marcar: 8\n",
            "X | O | X\n",
            "---------\n",
            "X | O |  \n",
            "---------\n",
            "  | O |  \n",
            "VOCÊ GANHOU! Pressione enter para continuar\n",
            "Quer jogar novamente? Responda: S ou N :N\n"
          ]
        }
      ],
      "source": [
        "print('Jogo da Velha!')\n",
        "def jogo_da_velha():\n",
        "    vontade = True\n",
        "    while vontade:\n",
        "        #Insere o tabuleiro padrão vazio e informa aos jogadores que o jogo começará.\n",
        "        tabuleiro=[' ', ' ', ' ', ' ', ' ', ' ', ' ', ' ', ' ']\n",
        "\n",
        "        input('\\n----------------\\nO Jogo da velha será iniciado\\nDecida quem será o jogador 1 e o jogador 2\\nPressione Enter para prosseguir\\n')\n",
        "\n",
        "        #Define quem jogará primeiro.\n",
        "        choose_first()\n",
        "\n",
        "        #O Jogador sorteado escolhe um Simbolo para si.\n",
        "        marker_1=player_input()\n",
        "        input('Pressione Enter para Continuar')\n",
        "        #Define o simbolo do jogador não sorteado.\n",
        "        if marker_1 == 'X':\n",
        "            marker_2='O'\n",
        "        else:\n",
        "            marker_2='X'\n",
        "        print('\\nPróximo jogador,seu marcador é -> {} <-'.format(marker_2))\n",
        "        input('Pressione Enter para confirmar')\n",
        "\n",
        "        print('\\nO Jogo irá começar, favor seguir a sequencia correta de jogadas começando pelo jogador sorteado')\n",
        "        input('Pressione Enter para confirmar o início do jogo')\n",
        "        while full_board_check(tabuleiro) == False:\n",
        "            print('\\nPrimeiro jogador sorteado: ')\n",
        "            position1 = player_choice(tabuleiro)\n",
        "            place_marker(tabuleiro,marker_1,position1)\n",
        "            if win_check(tabuleiro,marker_1) == True:\n",
        "                input('VOCÊ GANHOU! Pressione enter para continuar')\n",
        "                break\n",
        "            if full_board_check(tabuleiro) == True:\n",
        "                break\n",
        "            input('\\nPressione Enter para proxima jogada')\n",
        "            print('\\nSegundo jogador sorteado: ')\n",
        "            position2 = player_choice(tabuleiro)\n",
        "            place_marker(tabuleiro, marker_2, position2)\n",
        "            if win_check(tabuleiro, marker_2) == True:\n",
        "                input('VOCÊ GANHOU! Pressione enter para continuar')\n",
        "                break\n",
        "            input('\\nPressione Enter para proxima jogada')\n",
        "        vontade = replay()\n",
        "\n",
        "jogo_da_velha()"
      ]
    }
  ],
  "metadata": {
    "anaconda-cloud": {},
    "kernelspec": {
      "display_name": "Python 3",
      "language": "python",
      "name": "python3"
    },
    "language_info": {
      "codemirror_mode": {
        "name": "ipython",
        "version": 3
      },
      "file_extension": ".py",
      "mimetype": "text/x-python",
      "name": "python",
      "nbconvert_exporter": "python",
      "pygments_lexer": "ipython3",
      "version": "3.6.1"
    },
    "colab": {
      "provenance": [],
      "include_colab_link": true
    }
  },
  "nbformat": 4,
  "nbformat_minor": 0
}